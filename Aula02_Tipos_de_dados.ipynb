{
  "nbformat": 4,
  "nbformat_minor": 0,
  "metadata": {
    "colab": {
      "provenance": [],
      "authorship_tag": "ABX9TyMpRqkjjMZHSDGfgMZBeiMB",
      "include_colab_link": true
    },
    "kernelspec": {
      "name": "python3",
      "display_name": "Python 3"
    },
    "language_info": {
      "name": "python"
    }
  },
  "cells": [
    {
      "cell_type": "markdown",
      "metadata": {
        "id": "view-in-github",
        "colab_type": "text"
      },
      "source": [
        "<a href=\"https://colab.research.google.com/github/arturmpaiva/Estudos-Programacao-Java/blob/main/Aula02_Tipos_de_dados.ipynb\" target=\"_parent\"><img src=\"https://colab.research.google.com/assets/colab-badge.svg\" alt=\"Open In Colab\"/></a>"
      ]
    },
    {
      "cell_type": "code",
      "execution_count": null,
      "metadata": {
        "colab": {
          "base_uri": "https://localhost:8080/"
        },
        "id": "_GSnAvyiBq4u",
        "outputId": "508f1276-60ee-4f16-b9fd-b7e0e21168bf"
      },
      "outputs": [
        {
          "output_type": "stream",
          "name": "stdout",
          "text": [
            "Meu primeiro notebook\n"
          ]
        }
      ],
      "source": [
        "print(\"Meu primeiro notebook\")\n"
      ]
    },
    {
      "cell_type": "code",
      "source": [
        "nome = \"Artur\"\n",
        "print(nome)"
      ],
      "metadata": {
        "colab": {
          "base_uri": "https://localhost:8080/"
        },
        "id": "DB66jvSsCS4B",
        "outputId": "b120774c-709a-4d79-f6a0-46165bc16310"
      },
      "execution_count": null,
      "outputs": [
        {
          "output_type": "stream",
          "name": "stdout",
          "text": [
            "artur\n"
          ]
        }
      ]
    },
    {
      "cell_type": "code",
      "source": [
        "#Descobrir tipo de variável\n",
        "type(nome)"
      ],
      "metadata": {
        "colab": {
          "base_uri": "https://localhost:8080/"
        },
        "id": "-LHQSIObClUO",
        "outputId": "287d3fd9-dd79-46b2-d9df-93038d523bd2"
      },
      "execution_count": null,
      "outputs": [
        {
          "output_type": "execute_result",
          "data": {
            "text/plain": [
              "str"
            ]
          },
          "metadata": {},
          "execution_count": 3
        }
      ]
    },
    {
      "cell_type": "code",
      "source": [
        "a = 100\n",
        "b = 25.6\n",
        "c = a > b\n",
        "d = \"chimpanze\""
      ],
      "metadata": {
        "id": "QgeCMNH0EMlq"
      },
      "execution_count": null,
      "outputs": []
    },
    {
      "cell_type": "code",
      "source": [
        "print(c)"
      ],
      "metadata": {
        "colab": {
          "base_uri": "https://localhost:8080/"
        },
        "id": "Q4UFf4LMEd2i",
        "outputId": "9ac284aa-d2bd-4e49-a995-7a0a8450c78b"
      },
      "execution_count": null,
      "outputs": [
        {
          "output_type": "stream",
          "name": "stdout",
          "text": [
            "True\n"
          ]
        }
      ]
    },
    {
      "cell_type": "code",
      "source": [
        "a = 100 < 200\n",
        "b = 85 == 6\n",
        "c = \"pablo\" == 'Pablo'\n",
        "d = 25 == '25'\n",
        "e = 30 == (6 * 5)\n",
        "f = 'chocolate' != 'agua'"
      ],
      "metadata": {
        "id": "fB-Z8cllK2h5"
      },
      "execution_count": null,
      "outputs": []
    },
    {
      "cell_type": "code",
      "source": [
        "print(a)\n",
        "print(b)\n",
        "print(c)\n",
        "print(d)\n",
        "print(e)\n",
        "print(f)"
      ],
      "metadata": {
        "colab": {
          "base_uri": "https://localhost:8080/"
        },
        "id": "mqH7cEr6K-ZQ",
        "outputId": "3c50c621-ef56-4bb8-b22f-7c1c1bbdfa5c"
      },
      "execution_count": null,
      "outputs": [
        {
          "output_type": "stream",
          "name": "stdout",
          "text": [
            "True\n",
            "False\n",
            "False\n",
            "False\n",
            "True\n",
            "True\n"
          ]
        }
      ]
    },
    {
      "cell_type": "code",
      "source": [
        "notaAprovacao = 7.0\n",
        "notaWalison = 9.0\n",
        "print(notaAprovacao < notaWalison)\n"
      ],
      "metadata": {
        "colab": {
          "base_uri": "https://localhost:8080/"
        },
        "id": "wcxilNH5MzyJ",
        "outputId": "f8eda055-1513-4b74-cdbf-e8aea30a3c06"
      },
      "execution_count": null,
      "outputs": [
        {
          "output_type": "stream",
          "name": "stdout",
          "text": [
            "True\n"
          ]
        }
      ]
    },
    {
      "cell_type": "markdown",
      "source": [
        "Input de dados no Python"
      ],
      "metadata": {
        "id": "cNSewtI0UYBK"
      }
    },
    {
      "cell_type": "code",
      "source": [
        "#fazer parse\n",
        "nota1 = float(input('Digite a primeira nota '))\n",
        "nota2 = float(input('Digite a segunda nota '))\n",
        "nota3 = float(input('Digite a terceira nota '))\n",
        "media = (nota1 + nota2 + nota3)/3\n",
        "print(media)\n"
      ],
      "metadata": {
        "colab": {
          "base_uri": "https://localhost:8080/"
        },
        "id": "kzVhtfzxUbuP",
        "outputId": "15abfefd-1296-4294-e811-72c0518fe551"
      },
      "execution_count": null,
      "outputs": [
        {
          "output_type": "stream",
          "name": "stdout",
          "text": [
            "Digite a primeira nota 10\n",
            "Digite a segunda nota 4\n",
            "Digite a terceira nota 4\n",
            "6.0\n"
          ]
        }
      ]
    },
    {
      "cell_type": "code",
      "source": [
        "if (media < 4):\n",
        "  print('REPROVADO')\n",
        "elif (media < 7):\n",
        "  print('RECUPERACAO')\n",
        "else:\n",
        "  print('APROVADO')"
      ],
      "metadata": {
        "colab": {
          "base_uri": "https://localhost:8080/"
        },
        "id": "uiyH01L5NJLw",
        "outputId": "489f4b53-b291-4381-989e-09a2bf01b35e"
      },
      "execution_count": null,
      "outputs": [
        {
          "output_type": "stream",
          "name": "stdout",
          "text": [
            "RECUPERACAO\n"
          ]
        }
      ]
    },
    {
      "cell_type": "code",
      "source": [
        "idade = int(input('Digite a idade do atleta '))\n",
        "if (idade < 14):\n",
        "  print('Infantil')\n",
        "elif (idade < 18):\n",
        "  print('Juvenil')\n",
        "else:\n",
        "  print('Senior')"
      ],
      "metadata": {
        "colab": {
          "base_uri": "https://localhost:8080/"
        },
        "id": "Sc6qI-Ys-lTy",
        "outputId": "cf0857ea-ffeb-4b34-e646-e33e4758607d"
      },
      "execution_count": 8,
      "outputs": [
        {
          "output_type": "stream",
          "name": "stdout",
          "text": [
            "Digite a idade do atleta 10\n",
            "Infantil\n"
          ]
        }
      ]
    },
    {
      "cell_type": "code",
      "source": [
        "numeros = [1, 4, 3, 2, 7]"
      ],
      "metadata": {
        "id": "D69EfKXC_uK4"
      },
      "execution_count": 10,
      "outputs": []
    },
    {
      "cell_type": "code",
      "source": [
        "len(numeros)"
      ],
      "metadata": {
        "colab": {
          "base_uri": "https://localhost:8080/"
        },
        "id": "233U5LQwBYRx",
        "outputId": "7d35addd-8137-4899-ef69-dd4480102378"
      },
      "execution_count": 11,
      "outputs": [
        {
          "output_type": "execute_result",
          "data": {
            "text/plain": [
              "5"
            ]
          },
          "metadata": {},
          "execution_count": 11
        }
      ]
    },
    {
      "cell_type": "code",
      "source": [
        "print(numeros[0])\n",
        "print(numeros[1])\n",
        "print(numeros[2])\n",
        "print(numeros[3])\n",
        "print(numeros[4])"
      ],
      "metadata": {
        "colab": {
          "base_uri": "https://localhost:8080/"
        },
        "id": "QV2cDeGLCKiN",
        "outputId": "cbb358e0-6ac5-4db3-bd94-8d7663bb25af"
      },
      "execution_count": 14,
      "outputs": [
        {
          "output_type": "stream",
          "name": "stdout",
          "text": [
            "1\n",
            "4\n",
            "3\n",
            "2\n",
            "7\n"
          ]
        }
      ]
    },
    {
      "cell_type": "code",
      "source": [
        "#lista de alunos\n",
        "alunos = ['ana luisa', 'romulo', 'lucas', 'flavio', 'bia', 'livia']"
      ],
      "metadata": {
        "id": "5o3CCmiNDMa3"
      },
      "execution_count": 19,
      "outputs": []
    },
    {
      "cell_type": "code",
      "source": [
        "alunos[2] = 'joao'"
      ],
      "metadata": {
        "id": "qZ6vA60TD8YU"
      },
      "execution_count": 20,
      "outputs": []
    },
    {
      "cell_type": "code",
      "source": [
        "len(alunos)"
      ],
      "metadata": {
        "colab": {
          "base_uri": "https://localhost:8080/"
        },
        "id": "-DfY7JCfDn3-",
        "outputId": "e83c953d-0d62-46bc-de82-da6c3804e65b"
      },
      "execution_count": 16,
      "outputs": [
        {
          "output_type": "execute_result",
          "data": {
            "text/plain": [
              "6"
            ]
          },
          "metadata": {},
          "execution_count": 16
        }
      ]
    },
    {
      "cell_type": "code",
      "source": [
        "#mudar o valor de um item da lista\n",
        "print(alunos[2])"
      ],
      "metadata": {
        "colab": {
          "base_uri": "https://localhost:8080/"
        },
        "id": "6sucEXbYDtNm",
        "outputId": "a87dd537-d2c1-426f-a7b0-be5ea59be182"
      },
      "execution_count": 21,
      "outputs": [
        {
          "output_type": "stream",
          "name": "stdout",
          "text": [
            "joao\n"
          ]
        }
      ]
    },
    {
      "cell_type": "code",
      "source": [
        "#adicionar valores na lista\n",
        "alunos.append('matheus')"
      ],
      "metadata": {
        "id": "5bpwj2-WE79s"
      },
      "execution_count": 22,
      "outputs": []
    },
    {
      "cell_type": "code",
      "source": [
        "len(alunos)"
      ],
      "metadata": {
        "colab": {
          "base_uri": "https://localhost:8080/"
        },
        "id": "_H1F2QvGFJy2",
        "outputId": "2bda293b-7868-448a-cda6-e801d826afb9"
      },
      "execution_count": 23,
      "outputs": [
        {
          "output_type": "execute_result",
          "data": {
            "text/plain": [
              "7"
            ]
          },
          "metadata": {},
          "execution_count": 23
        }
      ]
    },
    {
      "cell_type": "code",
      "source": [
        "print(alunos)"
      ],
      "metadata": {
        "colab": {
          "base_uri": "https://localhost:8080/"
        },
        "id": "MZz8-SkHFMGd",
        "outputId": "cd965d22-939a-4e28-92df-defa59c7d9ca"
      },
      "execution_count": 25,
      "outputs": [
        {
          "output_type": "stream",
          "name": "stdout",
          "text": [
            "['ana luisa', 'romulo', 'joao', 'flavio', 'bia', 'livia', 'matheus']\n"
          ]
        }
      ]
    },
    {
      "cell_type": "code",
      "source": [
        "alunos.append(input('Digite um novo aluno '))"
      ],
      "metadata": {
        "colab": {
          "base_uri": "https://localhost:8080/"
        },
        "id": "tlned58fGKy2",
        "outputId": "9b5ba2de-5d76-4e71-eecd-db4730516638"
      },
      "execution_count": 28,
      "outputs": [
        {
          "name": "stdout",
          "output_type": "stream",
          "text": [
            "Digite um novo aluno vitinho\n"
          ]
        }
      ]
    },
    {
      "cell_type": "code",
      "source": [
        "print(alunos)"
      ],
      "metadata": {
        "colab": {
          "base_uri": "https://localhost:8080/"
        },
        "id": "qHQQWJg7GW-W",
        "outputId": "639bc9f3-a98c-419f-9797-c2cdddfef9f3"
      },
      "execution_count": 30,
      "outputs": [
        {
          "output_type": "stream",
          "name": "stdout",
          "text": [
            "['ana luisa', 'romulo', 'joao', 'flavio', 'bia', 'livia', 'matheus', 'fernando', 'harry', 'vitinho']\n"
          ]
        }
      ]
    },
    {
      "cell_type": "code",
      "source": [
        "#descobrir se tem um valor na lista\n",
        "if 'flavio' in alunos:\n",
        "  print('tem flavio sim')\n",
        "else :\n",
        "  print('tem flavio não')"
      ],
      "metadata": {
        "colab": {
          "base_uri": "https://localhost:8080/"
        },
        "id": "yOVF5x3ENLcY",
        "outputId": "2fef6436-4b59-491c-f6e0-845cc83f75f7"
      },
      "execution_count": 34,
      "outputs": [
        {
          "output_type": "stream",
          "name": "stdout",
          "text": [
            "tem flavio sim\n"
          ]
        }
      ]
    },
    {
      "cell_type": "code",
      "source": [
        "nome = input('Digite o nome ')\n",
        "if nome in alunos:\n",
        "  print('Tem', nome)\n",
        "else:\n",
        "  print('Não tem',nome)"
      ],
      "metadata": {
        "colab": {
          "base_uri": "https://localhost:8080/"
        },
        "id": "boqIY16GQJ08",
        "outputId": "ebd7c3c3-84ce-49cb-c8f4-c80f915abdc8"
      },
      "execution_count": 43,
      "outputs": [
        {
          "output_type": "stream",
          "name": "stdout",
          "text": [
            "Digite o nome romulo\n",
            "Não tem romulo\n"
          ]
        }
      ]
    },
    {
      "cell_type": "code",
      "source": [
        "#deletar um item da lista\n",
        "del alunos[1]"
      ],
      "metadata": {
        "id": "h4Gtawk_N7FD"
      },
      "execution_count": 35,
      "outputs": []
    },
    {
      "cell_type": "code",
      "source": [
        "print(alunos)"
      ],
      "metadata": {
        "colab": {
          "base_uri": "https://localhost:8080/"
        },
        "id": "rqmS6UfnOP9E",
        "outputId": "07e32608-ddf2-41ff-805f-22efe7d98a9f"
      },
      "execution_count": 36,
      "outputs": [
        {
          "output_type": "stream",
          "name": "stdout",
          "text": [
            "['ana luisa', 'joao', 'flavio', 'bia', 'livia', 'matheus', 'fernando', 'harry', 'vitinho']\n"
          ]
        }
      ]
    },
    {
      "cell_type": "code",
      "source": [
        "len(alunos)"
      ],
      "metadata": {
        "colab": {
          "base_uri": "https://localhost:8080/"
        },
        "id": "O1Eq4g_zO5Ii",
        "outputId": "2471c607-9427-4429-a0bb-1a498b158adc"
      },
      "execution_count": 44,
      "outputs": [
        {
          "output_type": "execute_result",
          "data": {
            "text/plain": [
              "9"
            ]
          },
          "metadata": {},
          "execution_count": 44
        }
      ]
    },
    {
      "cell_type": "code",
      "source": [
        "#criar uma lista com numeros ate 14 (15 itens)\n",
        "numeros = []\n",
        "for num in range(15):\n",
        " numeros.append(num)\n",
        "numeros"
      ],
      "metadata": {
        "colab": {
          "base_uri": "https://localhost:8080/"
        },
        "id": "aW5iiF0RS5B0",
        "outputId": "e6fb1324-6ace-4699-d3d8-44d03c98d0ff"
      },
      "execution_count": 49,
      "outputs": [
        {
          "output_type": "execute_result",
          "data": {
            "text/plain": [
              "[0, 1, 2, 3, 4, 5, 6, 7, 8, 9, 10, 11, 12, 13, 14]"
            ]
          },
          "metadata": {},
          "execution_count": 49
        }
      ]
    },
    {
      "cell_type": "code",
      "source": [
        "#descobrir se eh par\n",
        "a = 8\n",
        "if a % 2 == 0:\n",
        "  print('É par')\n",
        "else:\n",
        "  print('É impar')"
      ],
      "metadata": {
        "colab": {
          "base_uri": "https://localhost:8080/"
        },
        "id": "IBoIgJoGW8Pp",
        "outputId": "dcd825fc-ba56-4646-815b-56b89a366ad8"
      },
      "execution_count": 51,
      "outputs": [
        {
          "output_type": "stream",
          "name": "stdout",
          "text": [
            "É par\n"
          ]
        }
      ]
    },
    {
      "cell_type": "code",
      "source": [
        "#dobrar os valores da lista\n",
        "dobro = []\n",
        "for num in numeros:\n",
        "  dobro.append(numeros[num] * 2)\n",
        "dobro"
      ],
      "metadata": {
        "colab": {
          "base_uri": "https://localhost:8080/"
        },
        "id": "eAxZ_IXEU_8C",
        "outputId": "0f8a5e3c-6f0b-4546-ffda-f3991f5cc1dd"
      },
      "execution_count": 73,
      "outputs": [
        {
          "output_type": "execute_result",
          "data": {
            "text/plain": [
              "[0, 2, 4, 6, 8, 10, 12, 14, 16, 18, 20, 22, 24, 26, 28]"
            ]
          },
          "metadata": {},
          "execution_count": 73
        }
      ]
    },
    {
      "cell_type": "code",
      "source": [
        "#mostrar apenas os pares\n",
        "for num in numeros:\n",
        " if (numeros[num] % 2 == 0):\n",
        "  print(numeros[num])"
      ],
      "metadata": {
        "colab": {
          "base_uri": "https://localhost:8080/"
        },
        "id": "z9eMUZORYa43",
        "outputId": "a1ee4217-202c-4e87-b96e-9598fc76a1ad"
      },
      "execution_count": 76,
      "outputs": [
        {
          "output_type": "stream",
          "name": "stdout",
          "text": [
            "0\n",
            "2\n",
            "4\n",
            "6\n",
            "8\n",
            "10\n",
            "12\n",
            "14\n"
          ]
        }
      ]
    }
  ]
}